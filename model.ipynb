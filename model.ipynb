{
 "cells": [
  {
   "cell_type": "code",
   "execution_count": null,
   "metadata": {},
   "outputs": [],
   "source": [
    "import tensorflow as tf\n",
    "\n",
    "from keras import models\n",
    "from keras import layers\n",
    "from tensorflow.keras.utils import to_categorical\n",
    "from tensorflow.keras.models import Sequential\n",
    "from tensorflow.keras.layers import Conv2D\n",
    "from tensorflow.keras.layers import MaxPooling2D\n",
    "from tensorflow.keras.layers import Dense\n",
    "from tensorflow.keras.layers import Flatten\n",
    "import pickle\n",
    "from tensorflow.keras.preprocessing.image import ImageDataGenerator\n",
    "from sklearn.metrics import classification_report, confusion_matrix\n",
    "from tensorflow.keras.applications import InceptionV3\n",
    "from tensorflow.keras.applications.inception_v3 import preprocess_input\n",
    "\n",
    "from sklearn.model_selection import train_test_split\n"
   ]
  },
  {
   "cell_type": "code",
   "execution_count": null,
   "metadata": {},
   "outputs": [],
   "source": [
    "# Chargez le modèle InceptionV3 pré-entraîné\n",
    "#base_model = InceptionV3(weights='imagenet', include_top=False, input_shape=(75, 75, 3))\n"
   ]
  },
  {
   "cell_type": "code",
   "execution_count": null,
   "metadata": {},
   "outputs": [],
   "source": [
    "# Prétraitement spécifique à InceptionV3\n",
    "\"\"\"def preprocess_input_incep(x):\n",
    "    x = preprocess_input(x)\n",
    "    return x\"\"\""
   ]
  },
  {
   "cell_type": "code",
   "execution_count": null,
   "metadata": {},
   "outputs": [],
   "source": [
    "class CustomGenerator:\n",
    "    def __init__(self, generator):\n",
    "        self.generator = generator\n",
    "\n",
    "    def generate_batches(self):\n",
    "        while True:\n",
    "            data = next(self.generator)\n",
    "            yield data"
   ]
  },
  {
   "cell_type": "code",
   "execution_count": 121,
   "metadata": {},
   "outputs": [
    {
     "name": "stdout",
     "output_type": "stream",
     "text": [
      "Found 28709 images belonging to 7 classes.\n",
      "Found 7178 images belonging to 7 classes.\n"
     ]
    }
   ],
   "source": [
    "# the path to dataset\n",
    "dataset_train = 'D:\\\\workspace\\\\FER-PROJECT\\\\dataset\\\\train'\n",
    "dataset_test = 'D:\\\\workspace\\\\FER-PROJECT\\\\dataset\\\\test'\n",
    "\n",
    "#Set up a data generator with image augmentation for training\n",
    "datagen = ImageDataGenerator(\n",
    "    rescale=1./255,      # Normalize pixel values to be between 0 and 1\n",
    "    shear_range=0.2,\n",
    "    zoom_range=0.2,\n",
    "    horizontal_flip=True\n",
    ")\n",
    "\n",
    "batch_size = 128\n",
    "\n",
    "# Flow training images in batches using the datagen generator with target_size\n",
    "train_generator = datagen.flow_from_directory(\n",
    "    dataset_train,\n",
    "    batch_size=batch_size,\n",
    "    class_mode='categorical',\n",
    "    shuffle=True,\n",
    "    subset='training',\n",
    "    target_size=(75, 75)  # Resize images to 48 x 48\n",
    ")\n",
    "test_generator = datagen.flow_from_directory(\n",
    "    dataset_test,\n",
    "    batch_size=batch_size,\n",
    "    class_mode='categorical',\n",
    "    shuffle=False,\n",
    "    subset=None,\n",
    "    target_size=(75, 75)  # Resize images to 48 x 48\n",
    "\n",
    "    )\n",
    "\n",
    "# Save the relevant information to recreate the generator later\n",
    "test_generator_info = {\n",
    "    'directory': dataset_test,\n",
    "    'batch_size': batch_size,\n",
    "    'class_mode': 'categorical',\n",
    "    'shuffle': False,\n",
    "    'subset': None,\n",
    "    'target_size': (75, 75)\n",
    "\n",
    "}"
   ]
  },
  {
   "cell_type": "code",
   "execution_count": null,
   "metadata": {},
   "outputs": [],
   "source": [
    "print(\"Number of training batches per epoch:\", len(train_generator))\n",
    "print(\"Number of training samples:\", len(train_generator.filenames))\n",
    "print(\"Number of classes:\", train_generator.num_classes)\n",
    "print(\"Class labels:\", train_generator.class_indices)"
   ]
  },
  {
   "cell_type": "code",
   "execution_count": null,
   "metadata": {},
   "outputs": [],
   "source": [
    "# Create our personal model \n",
    "#model = Sequential()\n",
    "# Ajouter le modèle pré-entraîné InceptionV3\n",
    "#model.add(base_model)\n",
    "# Ajouter une couche Flatten pour aplatir la sortie du modèle pré-entraîné\n",
    "#model.add(Flatten())"
   ]
  },
  {
   "cell_type": "code",
   "execution_count": null,
   "metadata": {},
   "outputs": [],
   "source": [
    "#Convolutional Layers \n",
    "model = Sequential()\n",
    "model.add(Conv2D(32, (3, 3), activation='relu', kernel_initializer='he_uniform', input_shape=(48, 48, 3)))\n",
    "model.add(MaxPooling2D((2, 2)))\n",
    "model.add(Conv2D(64, (5, 5), activation='relu', kernel_initializer='he_uniform'))\n",
    "model.add(MaxPooling2D((2, 2)))\n",
    "model.add(Conv2D(128, (5, 5), activation='relu', kernel_initializer='he_uniform'))\n",
    "model.add(MaxPooling2D((2, 2)))\n",
    "model.add(Flatten())"
   ]
  },
  {
   "cell_type": "code",
   "execution_count": null,
   "metadata": {},
   "outputs": [],
   "source": [
    "# Fully connected layers\n",
    "model.add(Dense(512, activation='relu', kernel_initializer='he_uniform'))\n",
    "model.add(Dense(256, activation='relu', kernel_initializer='he_uniform'))\n",
    "model.add(Dense(128, activation='relu', kernel_initializer='he_uniform'))\n",
    "model.add(Dense(64, activation='relu', kernel_initializer='he_uniform'))\n",
    "model.add(Dense(32, activation='relu', kernel_initializer='he_uniform'))\n",
    "model.add(Dense(7, activation='softmax'))"
   ]
  },
  {
   "cell_type": "code",
   "execution_count": null,
   "metadata": {},
   "outputs": [],
   "source": [
    "model.compile(\n",
    "    optimizer=tf.keras.optimizers.Adam(0.0001),\n",
    "    loss=tf.keras.losses.CategoricalCrossentropy(),\n",
    "    metrics=['categorical_accuracy']\n",
    ")"
   ]
  },
  {
   "cell_type": "code",
   "execution_count": null,
   "metadata": {},
   "outputs": [],
   "source": [
    "model.fit(\n",
    "    train_generator,\n",
    "    steps_per_epoch=train_generator.samples // batch_size,\n",
    "    epochs=20,\n",
    ")"
   ]
  },
  {
   "cell_type": "code",
   "execution_count": null,
   "metadata": {},
   "outputs": [],
   "source": [
    "model.save(\"model4.h5\")"
   ]
  },
  {
   "cell_type": "code",
   "execution_count": null,
   "metadata": {},
   "outputs": [],
   "source": [
    "# Recreate the pickled file with the highest protocol version(for later uses)\n",
    "with open('test_generator_info.pkl', 'wb') as file:\n",
    "    pickle.dump(test_generator_info, file, protocol=pickle.HIGHEST_PROTOCOL)"
   ]
  },
  {
   "cell_type": "code",
   "execution_count": null,
   "metadata": {},
   "outputs": [],
   "source": [
    "# Print the model summary\n",
    "model.summary()\n",
    "\n",
    "# Add print statements to check layer shapes\n",
    "for layer in model.layers:\n",
    "    print(layer.name, layer.output_shape)\n"
   ]
  },
  {
   "cell_type": "code",
   "execution_count": null,
   "metadata": {},
   "outputs": [],
   "source": [
    "\n",
    "# Evaluate the model on the validation sets\n",
    "validation_loss, validation_accuracy = model.evaluate(test_generator)\n",
    "print(\"Validation Accuracy:\", validation_accuracy)\n",
    "\n",
    "# Get predictions on the validation set\n",
    "y_pred = model.predict(test_generator)\n",
    "y_true = test_generator.classes\n",
    "\n",
    "# Generate a confusion matrix\n",
    "conf_matrix = confusion_matrix(y_true, y_pred.argmax(axis=1))\n",
    "\n",
    "# Print classification report\n",
    "print(\"Classification Report: \\n\" , classification_report(y_true, y_pred.argmax(axis=1)))\n",
    "\n",
    "# Print confusion matrix\n",
    "print(\"Confusion Matrix: \\n \", conf_matrix)\n",
    "\n",
    "# Evaluate the model on the test data\n",
    "test_loss, test_accuracy = model.evaluate(\n",
    "    test_generator,\n",
    "    steps=test_generator.samples // batch_size\n",
    ")\n",
    "\n",
    "print(\"Test Loss:\", test_loss)\n",
    "print(\"Test Accuracy:\", test_accuracy)"
   ]
  }
 ],
 "metadata": {
  "kernelspec": {
   "display_name": "Python 3",
   "language": "python",
   "name": "python3"
  },
  "language_info": {
   "codemirror_mode": {
    "name": "ipython",
    "version": 3
   },
   "file_extension": ".py",
   "mimetype": "text/x-python",
   "name": "python",
   "nbconvert_exporter": "python",
   "pygments_lexer": "ipython3",
   "version": "3.10.11"
  }
 },
 "nbformat": 4,
 "nbformat_minor": 2
}
